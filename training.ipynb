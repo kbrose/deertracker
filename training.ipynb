{
  "nbformat": 4,
  "nbformat_minor": 0,
  "metadata": {
    "colab": {
      "name": "deertracking_training",
      "provenance": [],
      "collapsed_sections": [],
      "authorship_tag": "ABX9TyPsU4hDfUumYIswKE8yshxB",
      "include_colab_link": true
    },
    "kernelspec": {
      "name": "python3",
      "display_name": "Python 3"
    },
    "accelerator": "GPU"
  },
  "cells": [
    {
      "cell_type": "markdown",
      "metadata": {
        "id": "view-in-github",
        "colab_type": "text"
      },
      "source": [
        "<a href=\"https://colab.research.google.com/github/lukeforehand/deertracker/blob/main/training.ipynb\" target=\"_parent\"><img src=\"https://colab.research.google.com/assets/colab-badge.svg\" alt=\"Open In Colab\"/></a>"
      ]
    },
    {
      "cell_type": "code",
      "metadata": {
        "id": "7dbXUbVWrCmV",
        "colab": {
          "base_uri": "https://localhost:8080/"
        },
        "outputId": "836f038c-e793-406a-8b4b-8501bc49144a"
      },
      "source": [
        "! git clone https://github.com/lukeforehand/deertracker\n",
        "% cd /content/deertracker/\n",
        "! git pull\n",
        "% pip install --quiet -r requirements.txt\n",
        "\n",
        "import tarfile\n",
        "import shutil\n",
        "import pathlib\n",
        "from google.colab import drive\n",
        "drive.mount(\"/content/drive\", force_remount=True)\n",
        "shutil.rmtree(pathlib.Path(\"training_imgs\"), ignore_errors=True)\n",
        "with tarfile.open(\"../drive/My Drive/whitetail_crops.tar.gz\", \"r\") as tar:\n",
        "    tar.extractall()\n",
        "\n",
        "! python -m deertracker.main train --images \"training_imgs\" --min-images 500\n"
      ],
      "execution_count": 16,
      "outputs": [
        {
          "output_type": "stream",
          "text": [
            "fatal: destination path 'deertracker' already exists and is not an empty directory.\n",
            "/content/deertracker\n",
            "Already up to date.\n",
            "Mounted at /content/drive\n",
            "2020-12-02 05:41:56.375512: I tensorflow/stream_executor/platform/default/dso_loader.cc:48] Successfully opened dynamic library libcudart.so.10.1\n",
            "Found 3280 files belonging to 20 classes.\n",
            "Using 2624 files for training.\n",
            "2020-12-02 05:41:58.293485: I tensorflow/stream_executor/platform/default/dso_loader.cc:48] Successfully opened dynamic library libcuda.so.1\n",
            "2020-12-02 05:41:58.298252: I tensorflow/stream_executor/cuda/cuda_gpu_executor.cc:982] successful NUMA node read from SysFS had negative value (-1), but there must be at least one NUMA node, so returning NUMA node zero\n",
            "2020-12-02 05:41:58.298781: I tensorflow/core/common_runtime/gpu/gpu_device.cc:1716] Found device 0 with properties: \n",
            "pciBusID: 0000:00:04.0 name: Tesla T4 computeCapability: 7.5\n",
            "coreClock: 1.59GHz coreCount: 40 deviceMemorySize: 14.73GiB deviceMemoryBandwidth: 298.08GiB/s\n",
            "2020-12-02 05:41:58.298826: I tensorflow/stream_executor/platform/default/dso_loader.cc:48] Successfully opened dynamic library libcudart.so.10.1\n",
            "2020-12-02 05:41:58.300283: I tensorflow/stream_executor/platform/default/dso_loader.cc:48] Successfully opened dynamic library libcublas.so.10\n",
            "2020-12-02 05:41:58.308624: I tensorflow/stream_executor/platform/default/dso_loader.cc:48] Successfully opened dynamic library libcufft.so.10\n",
            "2020-12-02 05:41:58.308993: I tensorflow/stream_executor/platform/default/dso_loader.cc:48] Successfully opened dynamic library libcurand.so.10\n",
            "2020-12-02 05:41:58.310904: I tensorflow/stream_executor/platform/default/dso_loader.cc:48] Successfully opened dynamic library libcusolver.so.10\n",
            "2020-12-02 05:41:58.311812: I tensorflow/stream_executor/platform/default/dso_loader.cc:48] Successfully opened dynamic library libcusparse.so.10\n",
            "2020-12-02 05:41:58.315621: I tensorflow/stream_executor/platform/default/dso_loader.cc:48] Successfully opened dynamic library libcudnn.so.7\n",
            "2020-12-02 05:41:58.315757: I tensorflow/stream_executor/cuda/cuda_gpu_executor.cc:982] successful NUMA node read from SysFS had negative value (-1), but there must be at least one NUMA node, so returning NUMA node zero\n",
            "2020-12-02 05:41:58.316327: I tensorflow/stream_executor/cuda/cuda_gpu_executor.cc:982] successful NUMA node read from SysFS had negative value (-1), but there must be at least one NUMA node, so returning NUMA node zero\n",
            "2020-12-02 05:41:58.316848: I tensorflow/core/common_runtime/gpu/gpu_device.cc:1858] Adding visible gpu devices: 0\n",
            "2020-12-02 05:41:58.322616: I tensorflow/core/platform/profile_utils/cpu_utils.cc:104] CPU Frequency: 2200000000 Hz\n",
            "2020-12-02 05:41:58.322815: I tensorflow/compiler/xla/service/service.cc:168] XLA service 0x24b4bc0 initialized for platform Host (this does not guarantee that XLA will be used). Devices:\n",
            "2020-12-02 05:41:58.322846: I tensorflow/compiler/xla/service/service.cc:176]   StreamExecutor device (0): Host, Default Version\n",
            "2020-12-02 05:41:58.414868: I tensorflow/stream_executor/cuda/cuda_gpu_executor.cc:982] successful NUMA node read from SysFS had negative value (-1), but there must be at least one NUMA node, so returning NUMA node zero\n",
            "2020-12-02 05:41:58.415516: I tensorflow/compiler/xla/service/service.cc:168] XLA service 0x24b4a00 initialized for platform CUDA (this does not guarantee that XLA will be used). Devices:\n",
            "2020-12-02 05:41:58.415548: I tensorflow/compiler/xla/service/service.cc:176]   StreamExecutor device (0): Tesla T4, Compute Capability 7.5\n",
            "2020-12-02 05:41:58.415749: I tensorflow/stream_executor/cuda/cuda_gpu_executor.cc:982] successful NUMA node read from SysFS had negative value (-1), but there must be at least one NUMA node, so returning NUMA node zero\n",
            "2020-12-02 05:41:58.416220: I tensorflow/core/common_runtime/gpu/gpu_device.cc:1716] Found device 0 with properties: \n",
            "pciBusID: 0000:00:04.0 name: Tesla T4 computeCapability: 7.5\n",
            "coreClock: 1.59GHz coreCount: 40 deviceMemorySize: 14.73GiB deviceMemoryBandwidth: 298.08GiB/s\n",
            "2020-12-02 05:41:58.416258: I tensorflow/stream_executor/platform/default/dso_loader.cc:48] Successfully opened dynamic library libcudart.so.10.1\n",
            "2020-12-02 05:41:58.416301: I tensorflow/stream_executor/platform/default/dso_loader.cc:48] Successfully opened dynamic library libcublas.so.10\n",
            "2020-12-02 05:41:58.416322: I tensorflow/stream_executor/platform/default/dso_loader.cc:48] Successfully opened dynamic library libcufft.so.10\n",
            "2020-12-02 05:41:58.416343: I tensorflow/stream_executor/platform/default/dso_loader.cc:48] Successfully opened dynamic library libcurand.so.10\n",
            "2020-12-02 05:41:58.416361: I tensorflow/stream_executor/platform/default/dso_loader.cc:48] Successfully opened dynamic library libcusolver.so.10\n",
            "2020-12-02 05:41:58.416380: I tensorflow/stream_executor/platform/default/dso_loader.cc:48] Successfully opened dynamic library libcusparse.so.10\n",
            "2020-12-02 05:41:58.416399: I tensorflow/stream_executor/platform/default/dso_loader.cc:48] Successfully opened dynamic library libcudnn.so.7\n",
            "2020-12-02 05:41:58.416465: I tensorflow/stream_executor/cuda/cuda_gpu_executor.cc:982] successful NUMA node read from SysFS had negative value (-1), but there must be at least one NUMA node, so returning NUMA node zero\n",
            "2020-12-02 05:41:58.417008: I tensorflow/stream_executor/cuda/cuda_gpu_executor.cc:982] successful NUMA node read from SysFS had negative value (-1), but there must be at least one NUMA node, so returning NUMA node zero\n",
            "2020-12-02 05:41:58.417488: I tensorflow/core/common_runtime/gpu/gpu_device.cc:1858] Adding visible gpu devices: 0\n",
            "2020-12-02 05:41:58.417538: I tensorflow/stream_executor/platform/default/dso_loader.cc:48] Successfully opened dynamic library libcudart.so.10.1\n",
            "2020-12-02 05:41:59.055027: I tensorflow/core/common_runtime/gpu/gpu_device.cc:1257] Device interconnect StreamExecutor with strength 1 edge matrix:\n",
            "2020-12-02 05:41:59.055092: I tensorflow/core/common_runtime/gpu/gpu_device.cc:1263]      0 \n",
            "2020-12-02 05:41:59.055105: I tensorflow/core/common_runtime/gpu/gpu_device.cc:1276] 0:   N \n",
            "2020-12-02 05:41:59.055323: I tensorflow/stream_executor/cuda/cuda_gpu_executor.cc:982] successful NUMA node read from SysFS had negative value (-1), but there must be at least one NUMA node, so returning NUMA node zero\n",
            "2020-12-02 05:41:59.055979: I tensorflow/stream_executor/cuda/cuda_gpu_executor.cc:982] successful NUMA node read from SysFS had negative value (-1), but there must be at least one NUMA node, so returning NUMA node zero\n",
            "2020-12-02 05:41:59.056536: W tensorflow/core/common_runtime/gpu/gpu_bfc_allocator.cc:39] Overriding allow_growth setting because the TF_FORCE_GPU_ALLOW_GROWTH environment variable is set. Original config value was 0.\n",
            "2020-12-02 05:41:59.056576: I tensorflow/core/common_runtime/gpu/gpu_device.cc:1402] Created TensorFlow device (/job:localhost/replica:0/task:0/device:GPU:0 with 11472 MB memory) -> physical GPU (device: 0, name: Tesla T4, pci bus id: 0000:00:04.0, compute capability: 7.5)\n",
            "Found 3280 files belonging to 20 classes.\n",
            "Using 656 files for validation.\n",
            "Model: \"linnaeus\"\n",
            "_________________________________________________________________\n",
            "Layer (type)                 Output Shape              Param #   \n",
            "=================================================================\n",
            "mobilenetv2_1.00_96 (Functio (None, 3, 3, 1280)        2257984   \n",
            "_________________________________________________________________\n",
            "global_average_pooling2d (Gl multiple                  0         \n",
            "_________________________________________________________________\n",
            "dropout (Dropout)            multiple                  0         \n",
            "_________________________________________________________________\n",
            "dense (Dense)                multiple                  40992     \n",
            "_________________________________________________________________\n",
            "dense_1 (Dense)              multiple                  660       \n",
            "=================================================================\n",
            "Total params: 2,299,636\n",
            "Trainable params: 41,652\n",
            "Non-trainable params: 2,257,984\n",
            "_________________________________________________________________\n",
            "2020-12-02 05:42:08.110736: I tensorflow/stream_executor/platform/default/dso_loader.cc:48] Successfully opened dynamic library libcublas.so.10\n",
            "2020-12-02 05:42:08.466816: I tensorflow/stream_executor/platform/default/dso_loader.cc:48] Successfully opened dynamic library libcudnn.so.7\n",
            "Epoch    1 (19.95s), Loss: 1.09, Accuracy: 69.21, Test Loss: 9.65, Test Accuracy: 36.28\n",
            "Epoch    2 (2.97s), Loss: 0.69, Accuracy: 77.97, Test Loss: 4.74, Test Accuracy: 47.41\n",
            "Epoch    3 (2.94s), Loss: 0.58, Accuracy: 81.86, Test Loss: 7.69, Test Accuracy: 48.17\n",
            "\n",
            "Aborted!\n"
          ],
          "name": "stdout"
        }
      ]
    }
  ]
}