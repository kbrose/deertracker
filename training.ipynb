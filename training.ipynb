{
  "nbformat": 4,
  "nbformat_minor": 0,
  "metadata": {
    "accelerator": "GPU",
    "colab": {
      "name": "deertracking_training",
      "provenance": [],
      "collapsed_sections": [],
      "authorship_tag": "ABX9TyNvZLnd2gSfQVY9rw2JH0IF",
      "include_colab_link": true
    },
    "kernelspec": {
      "display_name": "Python 3",
      "name": "python3"
    }
  },
  "cells": [
    {
      "cell_type": "markdown",
      "metadata": {
        "id": "view-in-github",
        "colab_type": "text"
      },
      "source": [
        "<a href=\"https://colab.research.google.com/github/lukeforehand/deertracker/blob/classifier/training.ipynb\" target=\"_parent\"><img src=\"https://colab.research.google.com/assets/colab-badge.svg\" alt=\"Open In Colab\"/></a>"
      ]
    },
    {
      "cell_type": "code",
      "metadata": {
        "colab": {
          "base_uri": "https://localhost:8080/"
        },
        "id": "7dbXUbVWrCmV",
        "outputId": "764ef5ae-24da-4266-d9ed-e6033d78fb0f"
      },
      "source": [
        "! git clone https://github.com/lukeforehand/deertracker\n",
        "% cd /content/deertracker/\n",
        "! git pull\n",
        "! git checkout classifier\n",
        "% pip install --quiet -r requirements.txt\n",
        "\n",
        "from google.colab import drive\n",
        "drive.mount(\"/content/drive\", force_remount=True)\n",
        "! tar xfz --keep-old-files ../drive/MyDrive/deertracker/deertracker_crops.tar.gz\n",
        "\n",
        "! python -m deertracker.main train dt \\\n",
        "  --images \"training_imgs\" \\\n",
        "  --model-dir ../drive/MyDrive/deertracker \\\n",
        "  --min-images 500 \\\n",
        "  --epochs 1000\n"
      ],
      "execution_count": 2,
      "outputs": [
        {
          "output_type": "stream",
          "text": [
            "fatal: destination path 'deertracker' already exists and is not an empty directory.\n",
            "/content/deertracker\n",
            "Already up to date.\n",
            "Already on 'classifier'\n",
            "Your branch is up to date with 'origin/classifier'.\n",
            "Mounted at /content/drive\n",
            "tar (child): --keep-old-files: Cannot open: No such file or directory\n",
            "tar (child): Error is not recoverable: exiting now\n",
            "tar: Child returned status 2\n",
            "tar: Error is not recoverable: exiting now\n",
            "2020-12-14 01:37:22.026592: I tensorflow/stream_executor/platform/default/dso_loader.cc:48] Successfully opened dynamic library libcudart.so.10.1\n",
            "Traceback (most recent call last):\n",
            "  File \"/usr/lib/python3.6/runpy.py\", line 193, in _run_module_as_main\n",
            "    \"__main__\", mod_spec)\n",
            "  File \"/usr/lib/python3.6/runpy.py\", line 85, in _run_code\n",
            "    exec(code, run_globals)\n",
            "  File \"/content/deertracker/deertracker/main.py\", line 169, in <module>\n",
            "    main()\n",
            "  File \"/usr/local/lib/python3.6/dist-packages/click/core.py\", line 829, in __call__\n",
            "    return self.main(*args, **kwargs)\n",
            "  File \"/usr/local/lib/python3.6/dist-packages/click/core.py\", line 782, in main\n",
            "    rv = self.invoke(ctx)\n",
            "  File \"/usr/local/lib/python3.6/dist-packages/click/core.py\", line 1259, in invoke\n",
            "    return _process_result(sub_ctx.command.invoke(sub_ctx))\n",
            "  File \"/usr/local/lib/python3.6/dist-packages/click/core.py\", line 1066, in invoke\n",
            "    return ctx.invoke(self.callback, **ctx.params)\n",
            "  File \"/usr/local/lib/python3.6/dist-packages/click/core.py\", line 610, in invoke\n",
            "    return callback(*args, **kwargs)\n",
            "  File \"/content/deertracker/deertracker/main.py\", line 164, in train\n",
            "    epochs=epochs,\n",
            "  File \"/content/deertracker/deertracker/classifier.py\", line 177, in train\n",
            "    train_ds, test_ds, class_names = get_datasets(data_dir, min_images)\n",
            "  File \"/content/deertracker/deertracker/classifier.py\", line 97, in get_datasets\n",
            "    batch_size=1,\n",
            "  File \"/usr/local/lib/python3.6/dist-packages/tensorflow/python/keras/preprocessing/image_dataset.py\", line 182, in image_dataset_from_directory\n",
            "    follow_links=follow_links)\n",
            "  File \"/usr/local/lib/python3.6/dist-packages/tensorflow/python/keras/preprocessing/dataset_utils.py\", line 65, in index_directory\n",
            "    for subdir in sorted(os.listdir(directory)):\n",
            "FileNotFoundError: [Errno 2] No such file or directory: 'training_imgs'\n"
          ],
          "name": "stdout"
        }
      ]
    }
  ]
}