{
  "nbformat": 4,
  "nbformat_minor": 0,
  "metadata": {
    "accelerator": "GPU",
    "colab": {
      "name": "deertracking_training",
      "provenance": [],
      "collapsed_sections": [],
      "authorship_tag": "ABX9TyNvZLnd2gSfQVY9rw2JH0IF",
      "include_colab_link": true
    },
    "kernelspec": {
      "display_name": "Python 3",
      "name": "python3"
    }
  },
  "cells": [
    {
      "cell_type": "markdown",
      "metadata": {
        "id": "view-in-github",
        "colab_type": "text"
      },
      "source": [
        "<a href=\"https://colab.research.google.com/github/lukeforehand/deertracker/blob/classifier/training.ipynb\" target=\"_parent\"><img src=\"https://colab.research.google.com/assets/colab-badge.svg\" alt=\"Open In Colab\"/></a>"
      ]
    },
    {
      "cell_type": "code",
      "metadata": {
        "colab": {
          "base_uri": "https://localhost:8080/"
        },
        "id": "7dbXUbVWrCmV",
        "outputId": "764ef5ae-24da-4266-d9ed-e6033d78fb0f"
      },
      "source": [
        "! git clone https://github.com/lukeforehand/deertracker\n",
        "% cd /content/deertracker/\n",
        "! git pull\n",
        "! git checkout main\n",
        "% pip install --quiet -r requirements.txt\n",
        "\n",
        "from google.colab import drive\n",
        "drive.mount(\"/content/drive\", force_remount=True)\n",
        "! tar xfz ../drive/MyDrive/deertracker/deertracker_crops.tar.gz\n",
        "\n",
        "! python -m deertracker.main train \\\n",
        "  --name dt \\\n",
        "  --images \"training_imgs\" \\\n",
        "  --model-dir ../drive/MyDrive/deertracker \\\n",
        "  --min-images 500 \\\n",
        "  --epochs 1000 \\\n",
        "  --resume"
      ],
      "execution_count": 2,
      "outputs": []
    }
  ]
}