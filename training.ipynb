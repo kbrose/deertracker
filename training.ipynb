{
  "nbformat": 4,
  "nbformat_minor": 0,
  "metadata": {
    "colab": {
      "name": "deertracking_training",
      "provenance": [],
      "collapsed_sections": [],
      "authorship_tag": "ABX9TyMQjDdwTyfH+Akawyi0OHst",
      "include_colab_link": true
    },
    "kernelspec": {
      "name": "python3",
      "display_name": "Python 3"
    },
    "accelerator": "GPU"
  },
  "cells": [
    {
      "cell_type": "markdown",
      "metadata": {
        "id": "view-in-github",
        "colab_type": "text"
      },
      "source": [
        "<a href=\"https://colab.research.google.com/github/lukeforehand/deertracker/blob/classifier/training.ipynb\" target=\"_parent\"><img src=\"https://colab.research.google.com/assets/colab-badge.svg\" alt=\"Open In Colab\"/></a>"
      ]
    },
    {
      "cell_type": "code",
      "metadata": {
        "id": "7dbXUbVWrCmV",
        "colab": {
          "base_uri": "https://localhost:8080/"
        },
        "outputId": "5afc8732-20c6-4d65-f1b7-848386aaa9e4"
      },
      "source": [
        "! git clone https://github.com/lukeforehand/deertracker\n",
        "% cd /content/deertracker/\n",
        "! git pull\n",
        "! git checkout classifier\n",
        "% pip install --quiet -r requirements.txt\n",
        "\n",
        "import tarfile\n",
        "import shutil\n",
        "import pathlib\n",
        "from google.colab import drive\n",
        "drive.mount(\"/content/drive\", force_remount=True)\n",
        "shutil.rmtree(pathlib.Path(\"training_imgs\"), ignore_errors=True)\n",
        "with tarfile.open(\"../drive/My Drive/deertracker_crops.tar.gz\", \"r\") as tar:\n",
        "    tar.extractall()\n",
        "\n",
        "! python -m deertracker.main train dt --images \"training_imgs\" --min-images 200 --epochs 1000\n"
      ],
      "execution_count": null,
      "outputs": [
        {
          "output_type": "stream",
          "text": [
            "Cloning into 'deertracker'...\n",
            "remote: Enumerating objects: 130, done.\u001b[K\n",
            "remote: Counting objects: 100% (130/130), done.\u001b[K\n",
            "remote: Compressing objects: 100% (96/96), done.\u001b[K\n",
            "remote: Total 552 (delta 69), reused 75 (delta 34), pack-reused 422\u001b[K\n",
            "Receiving objects: 100% (552/552), 5.25 MiB | 7.76 MiB/s, done.\n",
            "Resolving deltas: 100% (308/308), done.\n",
            "/content/deertracker\n",
            "Already up to date.\n",
            "Branch 'classifier' set up to track remote branch 'classifier' from 'origin'.\n",
            "Switched to a new branch 'classifier'\n",
            "\u001b[K     |████████████████████████████████| 1.1MB 22.8MB/s \n",
            "\u001b[?25h  Installing build dependencies ... \u001b[?25l\u001b[?25hdone\n",
            "  Getting requirements to build wheel ... \u001b[?25l\u001b[?25hdone\n",
            "    Preparing wheel metadata ... \u001b[?25l\u001b[?25hdone\n",
            "\u001b[K     |████████████████████████████████| 10.1MB 24.6MB/s \n",
            "\u001b[K     |████████████████████████████████| 296kB 53.0MB/s \n",
            "\u001b[K     |████████████████████████████████| 727kB 48.2MB/s \n",
            "\u001b[K     |████████████████████████████████| 747kB 46.7MB/s \n",
            "\u001b[?25h  Building wheel for black (PEP 517) ... \u001b[?25l\u001b[?25hdone\n",
            "  Building wheel for cvlib (setup.py) ... \u001b[?25l\u001b[?25hdone\n",
            "  Building wheel for progressbar (setup.py) ... \u001b[?25l\u001b[?25hdone\n",
            "Mounted at /content/drive\n"
          ],
          "name": "stdout"
        }
      ]
    }
  ]
}